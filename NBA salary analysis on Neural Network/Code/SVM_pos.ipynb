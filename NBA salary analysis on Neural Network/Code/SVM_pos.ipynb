{
 "cells": [
  {
   "cell_type": "code",
   "execution_count": null,
   "metadata": {},
   "outputs": [],
   "source": [
    "#整體分類偏差\n",
    "#其中C SF SG分類結果差"
   ]
  },
  {
   "cell_type": "code",
   "execution_count": 1,
   "metadata": {},
   "outputs": [],
   "source": [
    "import pandas as pd\n",
    "import numpy as np\n",
    "from sklearn.model_selection import StratifiedKFold\n",
    "from sklearn.svm import SVC\n",
    "from sklearn.metrics import accuracy_score\n",
    "from sklearn.metrics import confusion_matrix\n",
    "\n",
    "data = pd.read_csv('nor.csv')  # 載入正規化後的資料\n",
    "ydata = data['SALARY_CLASS']  # data y\n",
    "xdata = data[['AGE', 'FG', 'FGA', 'FG%', '3P', '3PA', '3P%',\n",
    "    '2P', '2PA', '2P%', 'eFG%', 'FT', 'FTA', 'FT%', 'ORB', 'DRB', 'TRB',\n",
    "    'AST', 'STL', 'BLK', 'TOV', 'PF', 'POINTS', 'GP', 'MPG', 'ORPM',\n",
    "    'DRPM', 'RPM', 'WINS_RPM', 'PIE', 'PACE', 'W']]  # data x"
   ]
  },
  {
   "cell_type": "code",
   "execution_count": 2,
   "metadata": {},
   "outputs": [],
   "source": [
    "position = ['PG', 'C', 'SF', 'SG', 'PF']\n",
    "px = []\n",
    "py = []\n",
    "for p in position:\n",
    "    a = xdata[data['POSITION'].isin([p])]\n",
    "    a.reset_index(drop=True, inplace=True)\n",
    "    b = ydata[data['POSITION'].isin([p])]\n",
    "    b.reset_index(drop=True, inplace=True)\n",
    "    px.append(np.array(a))\n",
    "    py.append(np.array(b))"
   ]
  },
  {
   "cell_type": "code",
   "execution_count": 3,
   "metadata": {},
   "outputs": [
    {
     "name": "stdout",
     "output_type": "stream",
     "text": [
      "位置: PG\n",
      "trainDataLen: 54.4 testDataLen: 13.6\n",
      "accuracy: 0.5547899999999926\n",
      "confusion:\n",
      " [[0.     3.6    0.    ]\n",
      " [0.     6.2044 0.1956]\n",
      " [0.     2.2948 1.3052]]\n",
      "位置: C\n",
      "trainDataLen: 52.8 testDataLen: 13.2\n",
      "accuracy: 0.49564970695970234\n",
      "confusion:\n",
      " [[0.     2.3918 0.0082]\n",
      " [0.     6.5056 0.0944]\n",
      " [0.     4.1764 0.0236]]\n",
      "位置: SF\n",
      "trainDataLen: 51.2 testDataLen: 12.8\n",
      "accuracy: 0.48880599400601843\n",
      "confusion:\n",
      " [[0.     2.8    0.    ]\n",
      " [0.     6.0764 0.1236]\n",
      " [0.     3.6416 0.1584]]\n",
      "位置: SG\n",
      "trainDataLen: 53.6 testDataLen: 13.4\n",
      "accuracy: 0.5243589743589641\n",
      "confusion:\n",
      " [[0.  3.6 0. ]\n",
      " [0.  7.  0. ]\n",
      " [0.  2.8 0. ]]\n",
      "位置: PF\n",
      "trainDataLen: 55.2 testDataLen: 13.8\n",
      "accuracy: 0.5661904761904729\n",
      "confusion:\n",
      " [[0.  3.2 0. ]\n",
      " [0.  7.8 0. ]\n",
      " [0.  2.8 0. ]]\n"
     ]
    }
   ],
   "source": [
    "skf = StratifiedKFold(n_splits=5, random_state=None, shuffle=True)  # 將資料按照label比例分出train data和test data(分成5種)\n",
    "r = 1000  # range\n",
    "for i in range(len(position)):\n",
    "    print('位置:', position[i])\n",
    "    accuracy = 0  # 計算平均accuracy\n",
    "    trainDataLen = 0  # 計算平均train data大小\n",
    "    testDataLen = 0  # 計算平均test data大小\n",
    "    confusion = np.zeros([3, 3])  # 計算平均confusion matrix\n",
    "    for rr in range(r):\n",
    "        clf = SVC()  # 使用svm model\n",
    "        for train_index, test_index in skf.split(px[i], py[i]):\n",
    "            trainDataLen = trainDataLen + len(train_index)\n",
    "            testDataLen = testDataLen + len(test_index)\n",
    "            clf.fit(px[i][train_index], py[i][train_index])\n",
    "            y_predict = clf.predict(px[i][test_index])\n",
    "            accuracy = accuracy + accuracy_score(py[i][test_index], y_predict)\n",
    "            confusion = confusion + confusion_matrix(py[i][test_index], y_predict)\n",
    "    print('trainDataLen:', trainDataLen / (r * 5), 'testDataLen:', testDataLen / (r * 5))\n",
    "    print('accuracy:', accuracy / (r * 5))\n",
    "    print('confusion:\\n', confusion / (r * 5))\n"
   ]
  },
  {
   "cell_type": "code",
   "execution_count": null,
   "metadata": {},
   "outputs": [],
   "source": []
  }
 ],
 "metadata": {
  "kernelspec": {
   "display_name": "Python 3",
   "language": "python",
   "name": "python3"
  },
  "language_info": {
   "codemirror_mode": {
    "name": "ipython",
    "version": 3
   },
   "file_extension": ".py",
   "mimetype": "text/x-python",
   "name": "python",
   "nbconvert_exporter": "python",
   "pygments_lexer": "ipython3",
   "version": "3.6.5"
  }
 },
 "nbformat": 4,
 "nbformat_minor": 2
}
