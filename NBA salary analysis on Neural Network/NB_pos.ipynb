{
 "cells": [
  {
   "cell_type": "code",
   "execution_count": null,
   "metadata": {},
   "outputs": [],
   "source": [
    "#PG C SG 皆較高\n",
    "#SF PF低==>有較多分類錯的球員"
   ]
  },
  {
   "cell_type": "code",
   "execution_count": 1,
   "metadata": {},
   "outputs": [],
   "source": [
    "import pandas as pd\n",
    "import numpy as np\n",
    "from sklearn.model_selection import StratifiedKFold\n",
    "from sklearn.naive_bayes import GaussianNB\n",
    "from sklearn.metrics import accuracy_score\n",
    "from sklearn.metrics import confusion_matrix\n",
    "\n",
    "data = pd.read_csv('nor.csv')  # 載入正規化後的資料\n",
    "ydata = data['SALARY_CLASS']  # data y\n",
    "xdata = data[['AGE', 'FG', 'FGA', 'FG%', '3P', '3PA', '3P%',\n",
    "    '2P', '2PA', '2P%', 'eFG%', 'FT', 'FTA', 'FT%', 'ORB', 'DRB', 'TRB',\n",
    "    'AST', 'STL', 'BLK', 'TOV', 'PF', 'POINTS', 'GP', 'MPG', 'ORPM',\n",
    "    'DRPM', 'RPM', 'WINS_RPM', 'PIE', 'PACE', 'W']]  # data x"
   ]
  },
  {
   "cell_type": "code",
   "execution_count": 2,
   "metadata": {},
   "outputs": [],
   "source": [
    "position = ['PG', 'C', 'SF', 'SG', 'PF']\n",
    "px = []\n",
    "py = []\n",
    "for p in position:\n",
    "    a = xdata[data['POSITION'].isin([p])]\n",
    "    a.reset_index(drop=True, inplace=True)\n",
    "    b = ydata[data['POSITION'].isin([p])]\n",
    "    b.reset_index(drop=True, inplace=True)\n",
    "    px.append(np.array(a))\n",
    "    py.append(np.array(b))"
   ]
  },
  {
   "cell_type": "code",
   "execution_count": 3,
   "metadata": {},
   "outputs": [
    {
     "name": "stdout",
     "output_type": "stream",
     "text": [
      "位置: PG\n",
      "trainDataLen: 54.4 testDataLen: 13.6\n",
      "accuracy: 0.6660747619047518\n",
      "confusion:\n",
      " [[2.6906 0.9094 0.    ]\n",
      " [1.5628 3.6624 1.1748]\n",
      " [0.     0.8876 2.7124]]\n",
      "位置: C\n",
      "trainDataLen: 52.8 testDataLen: 13.2\n",
      "accuracy: 0.6233719780219736\n",
      "confusion:\n",
      " [[1.035  0.7806 0.5844]\n",
      " [0.6642 4.6852 1.2506]\n",
      " [0.402  1.2988 2.4992]]\n",
      "位置: SF\n",
      "trainDataLen: 51.2 testDataLen: 12.8\n",
      "accuracy: 0.5523544455544422\n",
      "confusion:\n",
      " [[1.8944 0.9022 0.0034]\n",
      " [2.0782 3.0276 1.0942]\n",
      " [0.2124 1.4336 2.154 ]]\n",
      "位置: SG\n",
      "trainDataLen: 53.6 testDataLen: 13.4\n",
      "accuracy: 0.6125739926739988\n",
      "confusion:\n",
      " [[2.6148 0.611  0.3742]\n",
      " [1.318  4.2756 1.4064]\n",
      " [0.     1.4814 1.3186]]\n",
      "位置: PF\n",
      "trainDataLen: 55.2 testDataLen: 13.8\n",
      "accuracy: 0.5244938095238099\n",
      "confusion:\n",
      " [[2.6574e+00 5.4240e-01 2.0000e-04]\n",
      " [2.6894e+00 2.7752e+00 2.3354e+00]\n",
      " [0.0000e+00 9.8640e-01 1.8136e+00]]\n"
     ]
    }
   ],
   "source": [
    "skf = StratifiedKFold(n_splits=5, random_state=None, shuffle=True)  # 將資料按照label比例分出train data和test data(分成5種)\n",
    "r = 1000  # range\n",
    "for i in range(len(position)):\n",
    "    print('位置:', position[i])\n",
    "    accuracy = 0  # 計算平均accuracy\n",
    "    trainDataLen = 0  # 計算平均train data大小\n",
    "    testDataLen = 0  # 計算平均test data大小\n",
    "    confusion = np.zeros([3, 3])  # 計算平均confusion matrix\n",
    "    for rr in range(r):\n",
    "        clf = GaussianNB()  # 使用NB model\n",
    "        for train_index, test_index in skf.split(px[i], py[i]):\n",
    "            trainDataLen = trainDataLen + len(train_index)\n",
    "            testDataLen = testDataLen + len(test_index)\n",
    "            clf.fit(px[i][train_index], py[i][train_index])\n",
    "            y_predict = clf.predict(px[i][test_index])\n",
    "            accuracy = accuracy + accuracy_score(py[i][test_index], y_predict)\n",
    "            confusion = confusion + confusion_matrix(py[i][test_index], y_predict)\n",
    "    print('trainDataLen:', trainDataLen / (r * 5), 'testDataLen:', testDataLen / (r * 5))\n",
    "    print('accuracy:', accuracy / (r * 5))\n",
    "    print('confusion:\\n', confusion / (r * 5))"
   ]
  },
  {
   "cell_type": "code",
   "execution_count": null,
   "metadata": {},
   "outputs": [],
   "source": []
  }
 ],
 "metadata": {
  "kernelspec": {
   "display_name": "Python 3",
   "language": "python",
   "name": "python3"
  },
  "language_info": {
   "codemirror_mode": {
    "name": "ipython",
    "version": 3
   },
   "file_extension": ".py",
   "mimetype": "text/x-python",
   "name": "python",
   "nbconvert_exporter": "python",
   "pygments_lexer": "ipython3",
   "version": "3.6.5"
  }
 },
 "nbformat": 4,
 "nbformat_minor": 2
}
