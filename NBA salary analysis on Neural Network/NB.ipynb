{
 "cells": [
  {
   "cell_type": "code",
   "execution_count": 1,
   "metadata": {},
   "outputs": [
    {
     "name": "stdout",
     "output_type": "stream",
     "text": [
      "<class 'pandas.core.frame.DataFrame'>\n",
      "RangeIndex: 335 entries, 0 to 334\n",
      "Data columns (total 37 columns):\n",
      "PLAYER             335 non-null object\n",
      "TEAM               335 non-null object\n",
      "POSITION           335 non-null object\n",
      "AGE                335 non-null float64\n",
      "FG                 335 non-null float64\n",
      "FGA                335 non-null float64\n",
      "FG%                335 non-null float64\n",
      "3P                 335 non-null float64\n",
      "3PA                335 non-null float64\n",
      "3P%                335 non-null float64\n",
      "2P                 335 non-null float64\n",
      "2PA                335 non-null float64\n",
      "2P%                335 non-null float64\n",
      "eFG%               335 non-null float64\n",
      "FT                 335 non-null float64\n",
      "FTA                335 non-null float64\n",
      "FT%                335 non-null float64\n",
      "ORB                335 non-null float64\n",
      "DRB                335 non-null float64\n",
      "TRB                335 non-null float64\n",
      "AST                335 non-null float64\n",
      "STL                335 non-null float64\n",
      "BLK                335 non-null float64\n",
      "TOV                335 non-null float64\n",
      "PF                 335 non-null float64\n",
      "POINTS             335 non-null float64\n",
      "GP                 335 non-null float64\n",
      "MPG                335 non-null float64\n",
      "ORPM               335 non-null float64\n",
      "DRPM               335 non-null float64\n",
      "RPM                335 non-null float64\n",
      "WINS_RPM           335 non-null float64\n",
      "PIE                335 non-null float64\n",
      "PACE               335 non-null float64\n",
      "W                  335 non-null float64\n",
      "SALARY_MILLIONS    335 non-null float64\n",
      "SALARY_CLASS       335 non-null int64\n",
      "dtypes: float64(33), int64(1), object(3)\n",
      "memory usage: 96.9+ KB\n"
     ]
    }
   ],
   "source": [
    "import pandas as pd\n",
    "import numpy as np\n",
    "from sklearn.model_selection import StratifiedKFold\n",
    "from sklearn.naive_bayes import GaussianNB\n",
    "from sklearn.metrics import accuracy_score\n",
    "from sklearn.metrics import confusion_matrix\n",
    "data = pd.read_csv('nor.csv')  # 載入正規化後的資料\n",
    "ydata = data['SALARY_CLASS']  # data y\n",
    "xdata = data[['AGE', 'FG', 'FGA', 'FG%', '3P', '3PA', '3P%',\n",
    "    '2P', '2PA', '2P%', 'eFG%', 'FT', 'FTA', 'FT%', 'ORB', 'DRB', 'TRB',\n",
    "    'AST', 'STL', 'BLK', 'TOV', 'PF', 'POINTS', 'GP', 'MPG', 'ORPM',\n",
    "    'DRPM', 'RPM', 'WINS_RPM', 'PIE', 'PACE', 'W']]  # data x\n",
    "x = np.array(xdata)\n",
    "y = np.array(ydata)\n",
    "data.info()"
   ]
  },
  {
   "cell_type": "code",
   "execution_count": 2,
   "metadata": {},
   "outputs": [],
   "source": [
    "skf = StratifiedKFold(n_splits=4, random_state=None, shuffle=True)  # 將資料按照label比例分出train data和test data(分成4種)\n",
    "accuracy = 0  # 計算平均accuracy\n",
    "trainDataLen = 0  # 計算平均train data大小\n",
    "testDataLen = 0  # 計算平均test data大小\n",
    "confusion = np.zeros([3,3])  # 計算平均confusion matrix\n",
    "r = 1000  # range\n",
    "for i in range(r):  # 計算1000 * 4次\n",
    "    clf = GaussianNB()  # 使用NB model\n",
    "    for train_index, test_index in skf.split(x, y):\n",
    "        trainDataLen = trainDataLen + len(train_index)\n",
    "        testDataLen = testDataLen + len(test_index)\n",
    "        clf.fit(x[train_index], y[train_index])\n",
    "        y_predict = clf.predict(x[test_index])\n",
    "        accuracy = accuracy + accuracy_score(y[test_index], y_predict)\n",
    "        confusion = confusion + confusion_matrix(y[test_index], y_predict)"
   ]
  },
  {
   "cell_type": "code",
   "execution_count": 3,
   "metadata": {},
   "outputs": [
    {
     "name": "stdout",
     "output_type": "stream",
     "text": [
      "trainDataLen: 251.25 testDataLen: 83.75\n",
      "accuracy: 0.5893331757445673\n",
      "confusion:\n",
      " [[15.00025  4.006    0.74375]\n",
      " [13.84175 21.0255   7.63275]\n",
      " [ 1.129    7.03775 13.33325]]\n"
     ]
    }
   ],
   "source": [
    "print('trainDataLen:', trainDataLen/(r*4), 'testDataLen:', testDataLen/(r*4))\n",
    "print('accuracy:', accuracy/(r*4))\n",
    "print('confusion:\\n', confusion/(r*4))"
   ]
  },
  {
   "cell_type": "code",
   "execution_count": null,
   "metadata": {},
   "outputs": [],
   "source": []
  }
 ],
 "metadata": {
  "kernelspec": {
   "display_name": "Python 3",
   "language": "python",
   "name": "python3"
  },
  "language_info": {
   "codemirror_mode": {
    "name": "ipython",
    "version": 3
   },
   "file_extension": ".py",
   "mimetype": "text/x-python",
   "name": "python",
   "nbconvert_exporter": "python",
   "pygments_lexer": "ipython3",
   "version": "3.6.5"
  }
 },
 "nbformat": 4,
 "nbformat_minor": 2
}
